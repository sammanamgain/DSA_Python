{
 "cells": [
  {
   "cell_type": "code",
   "execution_count": 13,
   "metadata": {},
   "outputs": [],
   "source": [
    "class Hashing:\n",
    "    def __init__(self,size):\n",
    "        self.size=size\n",
    "        self.keylist=[None]*size\n",
    "        self.valuelist=[None]*size\n",
    "        \n",
    "    \n",
    "    def add(self,keyvalue,value):\n",
    "        key=self.hashkey(keyvalue)\n",
    "        print(key)\n",
    "        while self.keylist[key]==None or self.keylist[key]:\n",
    "            if(self.keylist[key]==None):\n",
    "                self.keylist[key]=keyvalue\n",
    "                self.valuelist[key]=value\n",
    "                break\n",
    "            elif(self.keylist[key]==keyvalue):\n",
    "                self.valuelist[key]=value\n",
    "                break\n",
    "            else:\n",
    "                key=self.updatehashkey(key)\n",
    "    def search(self,key):\n",
    "        pass\n",
    "            \n",
    "                \n",
    "    def hashkey(self,key):\n",
    "        #hash is special function which returns number \n",
    "        return abs(hash(key))%self.size\n",
    "    \n",
    "    def updatehashkey(self,newkey):\n",
    "        return (newkey+1)%self.size\n",
    "        "
   ]
  },
  {
   "cell_type": "code",
   "execution_count": 14,
   "metadata": {},
   "outputs": [],
   "source": [
    "hashing=Hashing(5)"
   ]
  },
  {
   "cell_type": "code",
   "execution_count": 28,
   "metadata": {},
   "outputs": [
    {
     "data": {
      "text/plain": [
       "['dart', 'python', 'c++', 'js', 'c']"
      ]
     },
     "execution_count": 28,
     "metadata": {},
     "output_type": "execute_result"
    }
   ],
   "source": [
    "hashing.keylist"
   ]
  },
  {
   "cell_type": "code",
   "execution_count": 29,
   "metadata": {},
   "outputs": [
    {
     "data": {
      "text/plain": [
       "[1, 2, 4, 10, 3]"
      ]
     },
     "execution_count": 29,
     "metadata": {},
     "output_type": "execute_result"
    }
   ],
   "source": [
    "hashing.valuelist"
   ]
  },
  {
   "cell_type": "code",
   "execution_count": 27,
   "metadata": {},
   "outputs": [
    {
     "name": "stdout",
     "output_type": "stream",
     "text": [
      "3\n"
     ]
    }
   ],
   "source": [
    "hashing.add('js',10)"
   ]
  },
  {
   "cell_type": "code",
   "execution_count": 18,
   "metadata": {},
   "outputs": [
    {
     "name": "stdout",
     "output_type": "stream",
     "text": [
      "1\n",
      "3\n",
      "2\n"
     ]
    }
   ],
   "source": [
    "hashing.add('python',2)\n",
    "hashing.add('c',3)\n",
    "hashing.add('c++',4)"
   ]
  },
  {
   "cell_type": "code",
   "execution_count": 21,
   "metadata": {},
   "outputs": [
    {
     "name": "stdout",
     "output_type": "stream",
     "text": [
      "2\n"
     ]
    }
   ],
   "source": [
    "hashing.add('dart',1)"
   ]
  },
  {
   "cell_type": "code",
   "execution_count": null,
   "metadata": {},
   "outputs": [],
   "source": []
  }
 ],
 "metadata": {
  "kernelspec": {
   "display_name": "Python 3",
   "language": "python",
   "name": "python3"
  },
  "language_info": {
   "codemirror_mode": {
    "name": "ipython",
    "version": 3
   },
   "file_extension": ".py",
   "mimetype": "text/x-python",
   "name": "python",
   "nbconvert_exporter": "python",
   "pygments_lexer": "ipython3",
   "version": "3.10.12"
  }
 },
 "nbformat": 4,
 "nbformat_minor": 2
}
