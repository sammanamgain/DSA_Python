{
 "cells": [
  {
   "cell_type": "code",
   "execution_count": 15,
   "metadata": {},
   "outputs": [],
   "source": [
    "class Hashing:\n",
    "    def __init__(self,size):\n",
    "        self.size=size\n",
    "        self.keylist=[None]*size\n",
    "        self.valuelist=[None]*size\n",
    "        \n",
    "    \n",
    "    def add(self,keyvalue,value):\n",
    "        key=self.hashkey(keyvalue)\n",
    "        print(key)\n",
    "        while self.keylist[key]==None or self.keylist[key]:\n",
    "            if(self.keylist[key]==None):\n",
    "                self.keylist[key]=keyvalue\n",
    "                self.valuelist[key]=value\n",
    "                break\n",
    "            elif(self.keylist[key]==keyvalue):\n",
    "                self.valuelist[key]=value\n",
    "                break\n",
    "            else:\n",
    "                key=self.updatehashkey(key)\n",
    "    def search(self,keyvalue):\n",
    "        key=self.hashkey(keyvalue)\n",
    "        firsthitvalue=self.keylist[key]\n",
    "        \n",
    "        \n",
    "        while self.keylist[key]!=None:\n",
    "            \n",
    "            if(self.keylist[key]==keyvalue):\n",
    "                return self.valuelist[key]\n",
    "                \n",
    "            elif(self.keylist[key]==None):\n",
    "                return 'Not Found'\n",
    "            elif(self.keylist[key]==firsthitvalue):\n",
    "                return 'Not Found'\n",
    "            else:\n",
    "                key=self.updatehashkey(key)\n",
    "        \n",
    "        \n",
    "            \n",
    "                \n",
    "    def hashkey(self,key):\n",
    "        #hash is special function which returns number \n",
    "        return abs(hash(key))%self.size\n",
    "    \n",
    "    def updatehashkey(self,newkey):\n",
    "        return (newkey+1)%self.size\n",
    "        "
   ]
  },
  {
   "cell_type": "code",
   "execution_count": 16,
   "metadata": {},
   "outputs": [],
   "source": [
    "hashing=Hashing(5)"
   ]
  },
  {
   "cell_type": "code",
   "execution_count": 17,
   "metadata": {},
   "outputs": [
    {
     "data": {
      "text/plain": [
       "[None, None, None, None, None]"
      ]
     },
     "execution_count": 17,
     "metadata": {},
     "output_type": "execute_result"
    }
   ],
   "source": [
    "hashing.keylist"
   ]
  },
  {
   "cell_type": "code",
   "execution_count": 18,
   "metadata": {},
   "outputs": [
    {
     "data": {
      "text/plain": [
       "[None, None, None, None, None]"
      ]
     },
     "execution_count": 18,
     "metadata": {},
     "output_type": "execute_result"
    }
   ],
   "source": [
    "hashing.valuelist"
   ]
  },
  {
   "cell_type": "code",
   "execution_count": 19,
   "metadata": {},
   "outputs": [
    {
     "name": "stdout",
     "output_type": "stream",
     "text": [
      "1\n"
     ]
    }
   ],
   "source": [
    "hashing.add('js',10)"
   ]
  },
  {
   "cell_type": "code",
   "execution_count": 21,
   "metadata": {},
   "outputs": [
    {
     "name": "stdout",
     "output_type": "stream",
     "text": [
      "4\n",
      "4\n",
      "2\n"
     ]
    }
   ],
   "source": [
    "hashing.add('python',2)\n",
    "hashing.add('c',3)\n",
    "hashing.add('c++',4)"
   ]
  },
  {
   "cell_type": "code",
   "execution_count": 22,
   "metadata": {},
   "outputs": [
    {
     "name": "stdout",
     "output_type": "stream",
     "text": [
      "0\n"
     ]
    }
   ],
   "source": [
    "hashing.add('dart',1)"
   ]
  },
  {
   "cell_type": "code",
   "execution_count": 23,
   "metadata": {},
   "outputs": [
    {
     "data": {
      "text/plain": [
       "'Not Found'"
      ]
     },
     "execution_count": 23,
     "metadata": {},
     "output_type": "execute_result"
    }
   ],
   "source": [
    "hashing.search('php')"
   ]
  },
  {
   "cell_type": "code",
   "execution_count": null,
   "metadata": {},
   "outputs": [],
   "source": []
  }
 ],
 "metadata": {
  "kernelspec": {
   "display_name": "Python 3",
   "language": "python",
   "name": "python3"
  },
  "language_info": {
   "codemirror_mode": {
    "name": "ipython",
    "version": 3
   },
   "file_extension": ".py",
   "mimetype": "text/x-python",
   "name": "python",
   "nbconvert_exporter": "python",
   "pygments_lexer": "ipython3",
   "version": "3.10.12"
  }
 },
 "nbformat": 4,
 "nbformat_minor": 2
}
