{
 "cells": [
  {
   "cell_type": "code",
   "execution_count": 1,
   "metadata": {},
   "outputs": [],
   "source": [
    "class Node:\n",
    "    def __init__(self,data):\n",
    "        self.data=data\n",
    "        self.next=None\n",
    "    "
   ]
  },
  {
   "cell_type": "code",
   "execution_count": 134,
   "metadata": {},
   "outputs": [],
   "source": [
    "class Queue:\n",
    "    def __init__(self):\n",
    "        self.front=None\n",
    "        self.rear=None\n",
    "        self.totalsize=5\n",
    "        self.currentsize=0\n",
    "    \n",
    "    \n",
    "    def Enqueue(self,data):\n",
    "        onedata=Node(data)\n",
    "        \n",
    "        if (self.currentsize==0):\n",
    "            self.front=onedata\n",
    "            self.rear=onedata\n",
    "            self.currentsize=self.currentsize+1\n",
    "        elif self.currentsize<self.totalsize:\n",
    "            curr=self.front\n",
    "            self.front=onedata\n",
    "            self.front.next=curr\n",
    "            self.currentsize=self.currentsize+1\n",
    "            \n",
    "            \n",
    "        else:\n",
    "            return \"QUEUE IS FULL\"\n",
    "    def Dequeue(self):\n",
    "        curr=self.front\n",
    "        current_rear=self.rear\n",
    "        if(self.currentsize==0):\n",
    "            return\" Queue is Empty\"\n",
    "        \n",
    "        if(self.currentsize==1):\n",
    "            self.front=None\n",
    "            self.rear=None\n",
    "            self.currentsize=self.currentsize-1\n",
    "            return\n",
    "        \n",
    "        while(curr.next!=current_rear):\n",
    "            curr=curr.next    \n",
    "        secondlast=curr\n",
    "       \n",
    "        secondlast.next=None\n",
    "        self.rear=secondlast\n",
    "        self.currentsize=self.currentsize-1\n",
    "        \n",
    "    def __str__(self):\n",
    "        datatobeprinted=\"\"\n",
    "        curr=self.front\n",
    "        while(curr!=None):\n",
    "            data=curr.data\n",
    "            datatobeprinted=datatobeprinted+f\"{data}\"\n",
    "            curr=curr.next\n",
    "            \n",
    "        return datatobeprinted\n",
    "    def traverse(self):\n",
    "        \n",
    "        \n",
    "        curr=self.front\n",
    "     \n",
    "        \n",
    "        while(curr!=None):\n",
    "            data=curr.data\n",
    "            print(data)\n",
    "            curr=curr.next\n",
    "        \n",
    "        "
   ]
  },
  {
   "cell_type": "code",
   "execution_count": 135,
   "metadata": {},
   "outputs": [],
   "source": [
    "queue=Queue()"
   ]
  },
  {
   "cell_type": "code",
   "execution_count": 138,
   "metadata": {},
   "outputs": [
    {
     "data": {
      "text/plain": [
       "'QUEUE IS FULL'"
      ]
     },
     "execution_count": 138,
     "metadata": {},
     "output_type": "execute_result"
    }
   ],
   "source": [
    "queue.Enqueue(5)\n",
    "queue.Enqueue(6)\n",
    "queue.Enqueue(7)\n",
    "queue.Enqueue(8)\n",
    "queue.Enqueue(9)"
   ]
  },
  {
   "cell_type": "code",
   "execution_count": 139,
   "metadata": {},
   "outputs": [
    {
     "name": "stdout",
     "output_type": "stream",
     "text": [
      "98765\n"
     ]
    }
   ],
   "source": [
    "print(queue)\n"
   ]
  },
  {
   "cell_type": "code",
   "execution_count": 140,
   "metadata": {},
   "outputs": [
    {
     "name": "stdout",
     "output_type": "stream",
     "text": [
      "9\n",
      "8\n",
      "7\n",
      "6\n",
      "5\n"
     ]
    }
   ],
   "source": [
    "queue.traverse()"
   ]
  },
  {
   "cell_type": "code",
   "execution_count": 146,
   "metadata": {},
   "outputs": [
    {
     "data": {
      "text/plain": [
       "' Queue is Empty'"
      ]
     },
     "execution_count": 146,
     "metadata": {},
     "output_type": "execute_result"
    }
   ],
   "source": [
    "queue.Dequeue()"
   ]
  },
  {
   "cell_type": "code",
   "execution_count": null,
   "metadata": {},
   "outputs": [],
   "source": []
  },
  {
   "cell_type": "code",
   "execution_count": null,
   "metadata": {},
   "outputs": [],
   "source": []
  },
  {
   "cell_type": "code",
   "execution_count": null,
   "metadata": {},
   "outputs": [],
   "source": []
  }
 ],
 "metadata": {
  "kernelspec": {
   "display_name": "Python 3",
   "language": "python",
   "name": "python3"
  },
  "language_info": {
   "codemirror_mode": {
    "name": "ipython",
    "version": 3
   },
   "file_extension": ".py",
   "mimetype": "text/x-python",
   "name": "python",
   "nbconvert_exporter": "python",
   "pygments_lexer": "ipython3",
   "version": "3.10.12"
  }
 },
 "nbformat": 4,
 "nbformat_minor": 2
}
