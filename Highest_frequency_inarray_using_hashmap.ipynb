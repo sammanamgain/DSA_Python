{
 "cells": [
  {
   "cell_type": "code",
   "execution_count": 20,
   "metadata": {},
   "outputs": [],
   "source": [
    "hashmap=dict()"
   ]
  },
  {
   "cell_type": "code",
   "execution_count": 21,
   "metadata": {},
   "outputs": [
    {
     "data": {
      "text/plain": [
       "{}"
      ]
     },
     "execution_count": 21,
     "metadata": {},
     "output_type": "execute_result"
    }
   ],
   "source": [
    "hashmap"
   ]
  },
  {
   "cell_type": "code",
   "execution_count": 22,
   "metadata": {},
   "outputs": [],
   "source": [
    "arr=[1,2,3,4,5,1,2,1,1]"
   ]
  },
  {
   "cell_type": "code",
   "execution_count": 24,
   "metadata": {},
   "outputs": [
    {
     "name": "stdout",
     "output_type": "stream",
     "text": [
      "{1: 4, 2: 2, 3: 1, 4: 1, 5: 1}\n",
      "maximum frequent no is 1 and its frequency is 4\n"
     ]
    }
   ],
   "source": [
    "hashmap=dict()\n",
    "arr=[1,2,3,4,5,1,2,1,1]\n",
    "for i in arr:\n",
    "    if i not in hashmap:\n",
    "        hashmap[i]=1\n",
    "    else:\n",
    "        hashmap[i]=hashmap[i]+1\n",
    "fkey=None\n",
    "fvalue=0\n",
    "print(hashmap)\n",
    "for key in hashmap:\n",
    "    value=hashmap[key]\n",
    "    if(value>=fvalue):\n",
    "        fkey=key\n",
    "        fvalue=value\n",
    "    \n",
    "    \n",
    "print(f\"maximum frequent no is {fkey} and its frequency is {fvalue}\")"
   ]
  },
  {
   "cell_type": "code",
   "execution_count": 23,
   "metadata": {},
   "outputs": [
    {
     "name": "stdout",
     "output_type": "stream",
     "text": [
      "{1: 4, 2: 2, 3: 1, 4: 1, 5: 1}\n",
      "maximum frequent no is 1 and its frequency is 4\n"
     ]
    }
   ],
   "source": [
    "for i in arr:\n",
    "    if i not in hashmap:\n",
    "        hashmap[i]=1\n",
    "    else:\n",
    "        hashmap[i]=hashmap[i]+1\n",
    "fkey=None\n",
    "fvalue=0\n",
    "print(hashmap)\n",
    "for key in hashmap:\n",
    "    value=hashmap[key]\n",
    "    if(value>=fvalue):\n",
    "        fkey=key\n",
    "        fvalue=value\n",
    "    \n",
    "    \n",
    "print(f\"maximum frequent no is {fkey} and its frequency is {fvalue}\")"
   ]
  },
  {
   "cell_type": "code",
   "execution_count": null,
   "metadata": {},
   "outputs": [],
   "source": []
  }
 ],
 "metadata": {
  "kernelspec": {
   "display_name": "Python 3",
   "language": "python",
   "name": "python3"
  },
  "language_info": {
   "codemirror_mode": {
    "name": "ipython",
    "version": 3
   },
   "file_extension": ".py",
   "mimetype": "text/x-python",
   "name": "python",
   "nbconvert_exporter": "python",
   "pygments_lexer": "ipython3",
   "version": "3.10.12"
  }
 },
 "nbformat": 4,
 "nbformat_minor": 2
}
