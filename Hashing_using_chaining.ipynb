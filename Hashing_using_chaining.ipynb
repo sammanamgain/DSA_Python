{
 "cells": [
  {
   "cell_type": "code",
   "execution_count": 228,
   "metadata": {},
   "outputs": [],
   "source": [
    "class Node:\n",
    "    def __init__(self,key,value):\n",
    "        self.key=key\n",
    "        self.value=value\n",
    "        self.next=None"
   ]
  },
  {
   "cell_type": "code",
   "execution_count": 229,
   "metadata": {},
   "outputs": [],
   "source": [
    "class LinkedList:\n",
    "    def __init__(self):\n",
    "        self.head=None\n",
    "        self.n=0\n",
    "    \n",
    "    \n",
    "    \n",
    "    def count(self):\n",
    "        current=0\n",
    "        curr=self.head\n",
    "        \n",
    "        if(curr==None):\n",
    "           \n",
    "            return current\n",
    "        while(curr!=None):\n",
    "            curr=curr.next\n",
    "            current=current+1\n",
    "        return current\n",
    "    \n",
    "    \n",
    "    def returnnode(self,index):\n",
    "        current=0\n",
    "        curr=self.head\n",
    "        if(index==0):\n",
    "            return curr\n",
    "        \n",
    "        if(current!=index):\n",
    "            \n",
    "            curr=curr.next\n",
    "            current=current+1\n",
    "       \n",
    "        return curr\n",
    "        \n",
    "        \n",
    "        \n",
    "\n",
    "    def inserttail(self,key,value):\n",
    "        if(self.head==None):\n",
    "            node=Node(key,value)\n",
    "            self.head=node\n",
    "            self.n=self.n+1\n",
    "            \n",
    "        else:\n",
    "            \n",
    "            node=Node(key,value)\n",
    "            curr=self.head\n",
    "            \n",
    "            while(curr.next!=None):\n",
    "                curr=curr.next\n",
    "            \n",
    "            \n",
    "            curr.next=node\n",
    "            self.n=self.n+1\n",
    "            \n",
    "   \n",
    "   \n",
    " \n",
    " \n",
    "    #deletewith value\n",
    "    def deletespecific(self,key):\n",
    "        curr=self.head\n",
    "        if curr==None:\n",
    "            pass\n",
    "            \n",
    "        else:\n",
    "            flag=0\n",
    "            while(curr.key!=key):\n",
    "                curr=curr.next\n",
    "                if(curr==None):\n",
    "                    flag=1\n",
    "                    break\n",
    "            if(flag==1):\n",
    "                print(\"Item doesn't exists on list\")\n",
    "            address=curr\n",
    "            nextaddress=curr.next\n",
    "            curr=self.head\n",
    "            while(curr.next!=address):\n",
    "                curr=curr.next\n",
    "            \n",
    "            curr.next=nextaddress\n",
    "    #searching\n",
    "    #find with node with value\n",
    "    def search(self,key):\n",
    "        \n",
    "        print(self.head)\n",
    "        if(self.head==None):\n",
    "           \n",
    "            return -1\n",
    "        pos=0\n",
    "        \n",
    "        \n",
    "        if(self.head.key==key):\n",
    "           \n",
    "            return pos\n",
    "       \n",
    "        curr=self.head\n",
    "        while(curr.next!=None):\n",
    "            curr=curr.next\n",
    "            pos=pos+1\n",
    "            if(curr.key==key):\n",
    "                return pos\n",
    "        return -1\n",
    "    #search by index \n",
    "    def __getitem__(self,index):\n",
    "        curr=self.head\n",
    "        pos=0\n",
    "        while(curr!=None):\n",
    "          if(pos==index):\n",
    "              return curr.key\n",
    "          pos=pos+1\n",
    "          curr=curr.next\n",
    "        return 'Not found at specified index'\n",
    "            \n",
    "    def traverse(self):\n",
    "        curr=self.head\n",
    "        while(curr!=None):\n",
    "            \n",
    "          print(\"key ->\",curr.key,\"  \",\"value ->\",curr.value)\n",
    "          curr=curr.next\n",
    "    #special method to print the object instead of printing the address\n",
    "    def __str__(self):\n",
    "        \n",
    "        curr=self.head\n",
    "        result=''\n",
    "        while(curr!=None): \n",
    "          result=result+f\"key -> {curr.key}\"+\"-->\"+f\" value -> {curr.value}\"+'->'\n",
    "          curr=curr.next\n",
    "        return result[:-2]"
   ]
  },
  {
   "cell_type": "code",
   "execution_count": 230,
   "metadata": {},
   "outputs": [],
   "source": [
    "linked_list=LinkedList()"
   ]
  },
  {
   "cell_type": "code",
   "execution_count": 231,
   "metadata": {},
   "outputs": [],
   "source": [
    "linked_list.inserttail('name','samman')"
   ]
  },
  {
   "cell_type": "code",
   "execution_count": 232,
   "metadata": {},
   "outputs": [
    {
     "name": "stdout",
     "output_type": "stream",
     "text": [
      "key -> name    value -> samman\n"
     ]
    }
   ],
   "source": [
    "linked_list.traverse()"
   ]
  },
  {
   "cell_type": "code",
   "execution_count": 233,
   "metadata": {},
   "outputs": [],
   "source": [
    "class Dictionary:\n",
    "    def __init__(self,capacity):\n",
    "        self.capacity=capacity\n",
    "        self.size=0\n",
    "        self.buckets=self.makelist()\n",
    "    def makelist(self):\n",
    "        L=[]\n",
    "        for i in range(self.capacity):\n",
    "            L.append(LinkedList())\n",
    "        return L\n",
    "    \n",
    "    \n",
    "                \n",
    "            \n",
    "        \n",
    "    def add(self,key,value):\n",
    "        hash_index=abs(hash(key))%self.capacity\n",
    "        \n",
    "        index=self.getindex(hash_index,key)\n",
    "       \n",
    "        #item isnot in the linked list\n",
    "        if index ==-1:\n",
    "            \n",
    "    \n",
    "            self.buckets[hash_index].inserttail(key,value)\n",
    "            self.size+=1\n",
    "            \n",
    "            load_factor=self.size//self.capacity\n",
    "           \n",
    "            if(load_factor>=2):\n",
    "                print(\"Rehasing again\")\n",
    "                self.rehash()\n",
    "        \n",
    "            \n",
    "        #items is already in the list\n",
    "        else:\n",
    "            bucket=self.buckets[hash_index]\n",
    "            current=bucket.head\n",
    "            \n",
    "            position=0\n",
    "            while(position!=index):\n",
    "                current=current.next\n",
    "                position+=1\n",
    "          \n",
    "            current.value=value\n",
    "    \n",
    "    def rehash(self):\n",
    "        self.capacity=self.capacity*2\n",
    "        self.size=0\n",
    "        old_bucket=self.buckets\n",
    "        \n",
    "        self.buckets=self.makelist()\n",
    "        for i in old_bucket:\n",
    "            \n",
    "            for j in range(i.count()):\n",
    "                currentnode=i.returnnode(j)\n",
    "               \n",
    "                currkey=currentnode.key\n",
    "                currvalue=currentnode.value\n",
    "                self.add(currkey,currvalue)\n",
    "    \n",
    "    def getindex(self,key,keyvalue):\n",
    "        linked_list=self.buckets[key]\n",
    "        return linked_list.search(keyvalue)\n",
    "        \n",
    "        \n",
    "        \n",
    "    \n",
    "            \n",
    "            "
   ]
  },
  {
   "cell_type": "code",
   "execution_count": 234,
   "metadata": {},
   "outputs": [],
   "source": [
    "dictionary=Dictionary(4)"
   ]
  },
  {
   "cell_type": "code",
   "execution_count": 235,
   "metadata": {},
   "outputs": [
    {
     "name": "stdout",
     "output_type": "stream",
     "text": [
      "None\n",
      "None\n",
      "None\n",
      "<__main__.Node object at 0x7f986824ce20>\n",
      "None\n"
     ]
    }
   ],
   "source": [
    "dictionary.add('php',50)\n",
    "dictionary.add('dart',50)\n",
    "dictionary.add('matlab',50)\n",
    "dictionary.add('java',50)\n",
    "dictionary.add('R',50)"
   ]
  },
  {
   "cell_type": "code",
   "execution_count": 236,
   "metadata": {},
   "outputs": [
    {
     "name": "stdout",
     "output_type": "stream",
     "text": [
      "<__main__.Node object at 0x7f986824c250>\n",
      "<__main__.Node object at 0x7f986824c250>\n",
      "<__main__.Node object at 0x7f986824c400>\n",
      "Rehasing again\n",
      "None\n",
      "None\n",
      "<__main__.Node object at 0x7f97f4c7f5e0>\n",
      "None\n",
      "<__main__.Node object at 0x7f97f4c7f7c0>\n",
      "<__main__.Node object at 0x7f97f4c7f7c0>\n",
      "None\n",
      "None\n"
     ]
    }
   ],
   "source": [
    "dictionary.add('js',10)\n",
    "dictionary.add('python',12)\n",
    "dictionary.add('c',14)\n",
    "\n",
    "\n"
   ]
  },
  {
   "cell_type": "code",
   "execution_count": 217,
   "metadata": {},
   "outputs": [
    {
     "name": "stdout",
     "output_type": "stream",
     "text": [
      "None\n",
      "8 8\n",
      "1\n"
     ]
    }
   ],
   "source": [
    "dictionary.add('c++',22)"
   ]
  },
  {
   "cell_type": "code",
   "execution_count": 224,
   "metadata": {},
   "outputs": [
    {
     "name": "stdout",
     "output_type": "stream",
     "text": [
      "key -> java    value -> 50\n"
     ]
    }
   ],
   "source": [
    "dictionary.buckets[7].traverse()"
   ]
  },
  {
   "cell_type": "code",
   "execution_count": 222,
   "metadata": {},
   "outputs": [
    {
     "name": "stdout",
     "output_type": "stream",
     "text": [
      "key -> dart    value -> 50\n",
      "key -> js    value -> 10\n"
     ]
    }
   ],
   "source": [
    "dictionary.buckets[2].traverse()"
   ]
  },
  {
   "cell_type": "code",
   "execution_count": 225,
   "metadata": {},
   "outputs": [],
   "source": [
    "dictionary.buckets[4].traverse()"
   ]
  },
  {
   "cell_type": "code",
   "execution_count": 223,
   "metadata": {},
   "outputs": [
    {
     "name": "stdout",
     "output_type": "stream",
     "text": [
      "key -> matlab    value -> 50\n"
     ]
    }
   ],
   "source": [
    "dictionary.buckets[3].traverse()"
   ]
  },
  {
   "cell_type": "code",
   "execution_count": 221,
   "metadata": {},
   "outputs": [
    {
     "name": "stdout",
     "output_type": "stream",
     "text": [
      "key -> R    value -> 50\n"
     ]
    }
   ],
   "source": [
    "dictionary.buckets[0].traverse()"
   ]
  },
  {
   "cell_type": "code",
   "execution_count": 220,
   "metadata": {},
   "outputs": [],
   "source": [
    "dictionary.buckets[1].traverse()"
   ]
  },
  {
   "cell_type": "code",
   "execution_count": 226,
   "metadata": {},
   "outputs": [
    {
     "name": "stdout",
     "output_type": "stream",
     "text": [
      "key -> php    value -> 50\n",
      "key -> c    value -> 14\n"
     ]
    }
   ],
   "source": [
    "dictionary.buckets[5].traverse()"
   ]
  },
  {
   "cell_type": "code",
   "execution_count": 227,
   "metadata": {},
   "outputs": [
    {
     "name": "stdout",
     "output_type": "stream",
     "text": [
      "key -> c++    value -> 22\n"
     ]
    }
   ],
   "source": [
    "dictionary.buckets[6].traverse()"
   ]
  },
  {
   "cell_type": "code",
   "execution_count": 219,
   "metadata": {},
   "outputs": [
    {
     "data": {
      "text/plain": [
       "[<__main__.LinkedList at 0x7f97f4c89b10>,\n",
       " <__main__.LinkedList at 0x7f97f4c89fc0>,\n",
       " <__main__.LinkedList at 0x7f97f4c8aa10>,\n",
       " <__main__.LinkedList at 0x7f97f4c8b490>,\n",
       " <__main__.LinkedList at 0x7f97f4c882e0>,\n",
       " <__main__.LinkedList at 0x7f97f4c8b520>,\n",
       " <__main__.LinkedList at 0x7f97f4c89270>,\n",
       " <__main__.LinkedList at 0x7f97f4c89b40>]"
      ]
     },
     "execution_count": 219,
     "metadata": {},
     "output_type": "execute_result"
    }
   ],
   "source": [
    "dictionary.buckets"
   ]
  },
  {
   "cell_type": "code",
   "execution_count": null,
   "metadata": {},
   "outputs": [],
   "source": []
  }
 ],
 "metadata": {
  "kernelspec": {
   "display_name": "Python 3",
   "language": "python",
   "name": "python3"
  },
  "language_info": {
   "codemirror_mode": {
    "name": "ipython",
    "version": 3
   },
   "file_extension": ".py",
   "mimetype": "text/x-python",
   "name": "python",
   "nbconvert_exporter": "python",
   "pygments_lexer": "ipython3",
   "version": "3.10.12"
  }
 },
 "nbformat": 4,
 "nbformat_minor": 2
}
