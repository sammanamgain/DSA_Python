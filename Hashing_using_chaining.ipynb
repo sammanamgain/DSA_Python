{
 "cells": [
  {
   "cell_type": "code",
   "execution_count": 53,
   "metadata": {},
   "outputs": [],
   "source": [
    "class Node:\n",
    "    def __init__(self,key,value):\n",
    "        self.key=key\n",
    "        self.value=value\n",
    "        self.next=None"
   ]
  },
  {
   "cell_type": "code",
   "execution_count": 70,
   "metadata": {},
   "outputs": [],
   "source": [
    "class LinkedList:\n",
    "    def __init__(self):\n",
    "        self.head=None\n",
    "        self.n=0\n",
    "    \n",
    "\n",
    "    def inserttail(self,key,value):\n",
    "        if(self.head==None):\n",
    "            node=Node(key,value)\n",
    "            self.head=node\n",
    "            self.n=self.n+1\n",
    "            \n",
    "        else:\n",
    "            \n",
    "            node=Node(key,value)\n",
    "            curr=self.head\n",
    "            \n",
    "            while(curr.next!=None):\n",
    "                curr=curr.next\n",
    "            \n",
    "            \n",
    "            curr.next=node\n",
    "            self.n=self.n+1\n",
    "   \n",
    " \n",
    " \n",
    "    #deletewith value\n",
    "    def deletespecific(self,key):\n",
    "        curr=self.head\n",
    "        if curr==None:\n",
    "            print(\"Linked list is empty\")\n",
    "        else:\n",
    "            flag=0\n",
    "            while(curr.key!=key):\n",
    "                curr=curr.next\n",
    "                if(curr==None):\n",
    "                    flag=1\n",
    "                    break\n",
    "            if(flag==1):\n",
    "                print(\"Item doesn't exists on list\")\n",
    "            address=curr\n",
    "            nextaddress=curr.next\n",
    "            curr=self.head\n",
    "            while(curr.next!=address):\n",
    "                curr=curr.next\n",
    "            \n",
    "            curr.next=nextaddress\n",
    "    #searching\n",
    "    #find with node with value\n",
    "    def search(self,key):\n",
    "        if(self.head==None):\n",
    "            return -1\n",
    "        pos=0\n",
    "        \n",
    "        if(self.head.key==key):\n",
    "            return pos\n",
    "        curr=self.head\n",
    "        while(curr.next!=None):\n",
    "            curr=curr.next\n",
    "            pos=pos+1\n",
    "            if(curr.key==key):\n",
    "                return pos\n",
    "        return -1\n",
    "    #search by index \n",
    "    def __getitem__(self,index):\n",
    "        curr=self.head\n",
    "        pos=0\n",
    "        while(curr!=None):\n",
    "          if(pos==index):\n",
    "              return curr.key\n",
    "          pos=pos+1\n",
    "          curr=curr.next\n",
    "        return 'Not found at specified index'\n",
    "            \n",
    "    def traverse(self):\n",
    "        curr=self.head\n",
    "        while(curr!=None):\n",
    "            \n",
    "          print(\"key ->\",curr.key,\"  \",\"value ->\",curr.value)\n",
    "          curr=curr.next\n",
    "    #special method to print the object instead of printing the address\n",
    "    def __str__(self):\n",
    "        \n",
    "        curr=self.head\n",
    "        result=''\n",
    "        while(curr!=None): \n",
    "          result=result+f\"key -> {curr.key}\"+\"-->\"+f\" value -> {curr.value}\"+'->'\n",
    "          curr=curr.next\n",
    "        return result[:-2]"
   ]
  },
  {
   "cell_type": "code",
   "execution_count": 71,
   "metadata": {},
   "outputs": [],
   "source": [
    "linked_list=LinkedList()"
   ]
  },
  {
   "cell_type": "code",
   "execution_count": 72,
   "metadata": {},
   "outputs": [],
   "source": [
    "linked_list.inserttail('name','samman')"
   ]
  },
  {
   "cell_type": "code",
   "execution_count": 73,
   "metadata": {},
   "outputs": [
    {
     "name": "stdout",
     "output_type": "stream",
     "text": [
      "key -> name    value -> samman\n"
     ]
    }
   ],
   "source": [
    "linked_list.traverse()"
   ]
  },
  {
   "cell_type": "code",
   "execution_count": 77,
   "metadata": {},
   "outputs": [],
   "source": [
    "class Dictionary:\n",
    "    def __init__(self,capacity):\n",
    "        self.capacity=capacity\n",
    "        self.size=0\n",
    "        self.buckets=self.makelist()\n",
    "    def makelist(self):\n",
    "        L=[]\n",
    "        for i in range(self.capacity):\n",
    "            L.append(LinkedList())\n",
    "        return L\n",
    "    def add(self,key,value):\n",
    "        hash_index=abs(hash(key))%self.capacity\n",
    "        print(\"printing the hash index ->\",hash_index)\n",
    "        index=self.getindex(hash_index)\n",
    "        print(index)\n",
    "        if index ==-1:\n",
    "            print(\"printing the linked list index --> \",index)\n",
    "            self.buckets[hash_index].inserttail(key,value)\n",
    "        else:\n",
    "            print(\"Element not found\")\n",
    "    \n",
    "    \n",
    "    \n",
    "    def getindex(self,key):\n",
    "        linked_list=self.buckets[key]\n",
    "        return linked_list.search(key)\n",
    "        \n",
    "        \n",
    "        \n",
    "    \n",
    "            \n",
    "            "
   ]
  },
  {
   "cell_type": "code",
   "execution_count": 78,
   "metadata": {},
   "outputs": [],
   "source": [
    "dictionary=Dictionary(10)"
   ]
  },
  {
   "cell_type": "code",
   "execution_count": 79,
   "metadata": {},
   "outputs": [
    {
     "name": "stdout",
     "output_type": "stream",
     "text": [
      "printing the hash index -> 0\n",
      "-1\n",
      "printing the linked list index -->  -1\n"
     ]
    }
   ],
   "source": [
    "dictionary.add('js',10)"
   ]
  },
  {
   "cell_type": "code",
   "execution_count": 80,
   "metadata": {},
   "outputs": [
    {
     "name": "stdout",
     "output_type": "stream",
     "text": [
      "key -> js    value -> 10\n"
     ]
    }
   ],
   "source": [
    "dictionary.buckets[0].traverse()"
   ]
  },
  {
   "cell_type": "code",
   "execution_count": null,
   "metadata": {},
   "outputs": [],
   "source": []
  },
  {
   "cell_type": "code",
   "execution_count": null,
   "metadata": {},
   "outputs": [],
   "source": []
  }
 ],
 "metadata": {
  "kernelspec": {
   "display_name": "Python 3",
   "language": "python",
   "name": "python3"
  },
  "language_info": {
   "codemirror_mode": {
    "name": "ipython",
    "version": 3
   },
   "file_extension": ".py",
   "mimetype": "text/x-python",
   "name": "python",
   "nbconvert_exporter": "python",
   "pygments_lexer": "ipython3",
   "version": "3.10.12"
  }
 },
 "nbformat": 4,
 "nbformat_minor": 2
}
