{
 "cells": [
  {
   "cell_type": "code",
   "execution_count": 109,
   "metadata": {},
   "outputs": [],
   "source": [
    "class Node:\n",
    "    def __init__(self,data):\n",
    "        self.data=data\n",
    "        self.next=None"
   ]
  },
  {
   "cell_type": "code",
   "execution_count": 140,
   "metadata": {},
   "outputs": [],
   "source": [
    "class Stack:\n",
    "    def __init__(self):\n",
    "        self.top=None\n",
    "        self.size=0\n",
    "        self.totalsize=6\n",
    "    \n",
    "    \n",
    "    def isEmpty(self):\n",
    "        if self.top==None:\n",
    "            return True\n",
    "        else:\n",
    "            return False\n",
    "    def push(self,data):\n",
    "          \n",
    "        node=Node(data)\n",
    "        curr=self.top\n",
    "        if curr==None:\n",
    "            self.top=node\n",
    "            self.size=self.size+1\n",
    "            return f'Inserted successfully {data}'\n",
    "            \n",
    "        elif(self.size==self.totalsize):\n",
    "            return 'Stack is full'\n",
    "        else:\n",
    "            \n",
    "            self.top=node\n",
    "            self.size=self.size+1\n",
    "            self.top.next=curr\n",
    "            return f'Inserted successfully {data}'\n",
    "    \n",
    "    def peek(self):\n",
    "        if self.size==0:\n",
    "            return 'Stack is empty'\n",
    "        \n",
    "        return self.top.data\n",
    "    \n",
    "    \n",
    "    def pop(self):\n",
    "        \n",
    "        if self.size==0:\n",
    "            return 'Stack is empty'\n",
    "        \n",
    "        else:\n",
    "            curr=self.top\n",
    "            data=curr.data\n",
    "            next_top=curr.next\n",
    "            self.size=self.size-1\n",
    "            self.top=next_top\n",
    "            \n",
    "        \n",
    "        \n",
    "        return data\n",
    "    \n",
    "    \n",
    "    def traverse(self):\n",
    "        if self.top==None:\n",
    "            return 'Stack is empty'\n",
    "        else:\n",
    "            \n",
    "            temp=self.top\n",
    "            str=''\n",
    "            while temp:\n",
    "                #print(temp.data)\n",
    "                str=str+f'{temp.data}'\n",
    "                #print(temp.data,end=' ')\n",
    "                #str=str+f'{temp.data}'\n",
    "                temp=temp.next\n",
    "            return str\n",
    "            #return str\n",
    "    \n",
    "    \n",
    "    def __str__(self):\n",
    "        if self.top==None:\n",
    "            return 'Stack is empty'\n",
    "        else:\n",
    "            str=''\n",
    "            temp=self.top\n",
    "            while temp:\n",
    "                #print(temp.data)\n",
    "                #print(temp.data,end=' ')\n",
    "                str=str+f'{temp.data}'\n",
    "                \n",
    "                temp=temp.next\n",
    "            return str"
   ]
  },
  {
   "cell_type": "code",
   "execution_count": 114,
   "metadata": {},
   "outputs": [],
   "source": [
    "stack=Stack()"
   ]
  },
  {
   "cell_type": "code",
   "execution_count": 102,
   "metadata": {},
   "outputs": [
    {
     "data": {
      "text/plain": [
       "'Inserted successfully 1'"
      ]
     },
     "execution_count": 102,
     "metadata": {},
     "output_type": "execute_result"
    }
   ],
   "source": [
    "stack.push(1)"
   ]
  },
  {
   "cell_type": "code",
   "execution_count": 103,
   "metadata": {},
   "outputs": [
    {
     "data": {
      "text/plain": [
       "'Inserted successfully 3'"
      ]
     },
     "execution_count": 103,
     "metadata": {},
     "output_type": "execute_result"
    }
   ],
   "source": [
    "stack.push(2)\n",
    "stack.push(3)"
   ]
  },
  {
   "cell_type": "code",
   "execution_count": 104,
   "metadata": {},
   "outputs": [
    {
     "data": {
      "text/plain": [
       "'Inserted successfully 6'"
      ]
     },
     "execution_count": 104,
     "metadata": {},
     "output_type": "execute_result"
    }
   ],
   "source": [
    "stack.push(6)"
   ]
  },
  {
   "cell_type": "code",
   "execution_count": 105,
   "metadata": {},
   "outputs": [
    {
     "name": "stdout",
     "output_type": "stream",
     "text": [
      "6 ->3 ->2 ->1 \n"
     ]
    }
   ],
   "source": [
    "print(stack)"
   ]
  },
  {
   "cell_type": "code",
   "execution_count": 106,
   "metadata": {},
   "outputs": [
    {
     "name": "stdout",
     "output_type": "stream",
     "text": [
      "6\n",
      "3\n",
      "2\n",
      "1\n"
     ]
    }
   ],
   "source": [
    "stack.traverse()"
   ]
  },
  {
   "cell_type": "code",
   "execution_count": 107,
   "metadata": {},
   "outputs": [
    {
     "data": {
      "text/plain": [
       "6"
      ]
     },
     "execution_count": 107,
     "metadata": {},
     "output_type": "execute_result"
    }
   ],
   "source": [
    "stack.peek()"
   ]
  },
  {
   "cell_type": "code",
   "execution_count": 108,
   "metadata": {},
   "outputs": [
    {
     "data": {
      "text/plain": [
       "6"
      ]
     },
     "execution_count": 108,
     "metadata": {},
     "output_type": "execute_result"
    }
   ],
   "source": [
    "stack.pop()"
   ]
  },
  {
   "cell_type": "code",
   "execution_count": 116,
   "metadata": {},
   "outputs": [
    {
     "name": "stdout",
     "output_type": "stream",
     "text": [
      "nammas\n"
     ]
    }
   ],
   "source": [
    "# reverse a string using stack\n",
    "string =\"samman\"\n",
    "reverse=''\n",
    "for i in string:\n",
    "    stack.push(i)\n",
    "for i in string:\n",
    "    reverse=reverse+stack.pop()\n",
    "print(reverse)\n",
    "    "
   ]
  },
  {
   "cell_type": "code",
   "execution_count": 146,
   "metadata": {},
   "outputs": [],
   "source": [
    "#redo and undo operation using the stack\n",
    "def redoundo(string,pattern):\n",
    "    redo=Stack()\n",
    "    undo=Stack()\n",
    "    \n",
    "    for i in string:\n",
    "        undo.push(i)\n",
    "   \n",
    "    \n",
    "    currstr=undo.traverse()\n",
    "    print(currstr[::-1])\n",
    "    \n",
    "    print(\"printing the operation\")\n",
    "    for i in pattern:\n",
    "        if i=='u':\n",
    "            data=undo.pop()\n",
    "            redo.push(data)\n",
    "            currstr=undo.traverse()\n",
    "            print(currstr[::-1])\n",
    "        if i=='r':\n",
    "            data=redo.pop()\n",
    "            undo.push(data)\n",
    "            currstr=undo.traverse()\n",
    "            print(currstr[::-1])"
   ]
  },
  {
   "cell_type": "code",
   "execution_count": 147,
   "metadata": {},
   "outputs": [
    {
     "name": "stdout",
     "output_type": "stream",
     "text": [
      "samman\n",
      "printing the operation\n",
      "samma\n",
      "samman\n",
      "samma\n",
      "samman\n",
      "samma\n",
      "samm\n",
      "sam\n",
      "samm\n",
      "samma\n"
     ]
    }
   ],
   "source": [
    "redoundo(\"samman\",'ururuuurr')"
   ]
  },
  {
   "cell_type": "code",
   "execution_count": null,
   "metadata": {},
   "outputs": [],
   "source": []
  }
 ],
 "metadata": {
  "kernelspec": {
   "display_name": "Python 3",
   "language": "python",
   "name": "python3"
  },
  "language_info": {
   "codemirror_mode": {
    "name": "ipython",
    "version": 3
   },
   "file_extension": ".py",
   "mimetype": "text/x-python",
   "name": "python",
   "nbconvert_exporter": "python",
   "pygments_lexer": "ipython3",
   "version": "3.10.12"
  }
 },
 "nbformat": 4,
 "nbformat_minor": 2
}
