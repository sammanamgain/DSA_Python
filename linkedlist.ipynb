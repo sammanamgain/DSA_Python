{
 "cells": [
  {
   "cell_type": "code",
   "execution_count": 4,
   "metadata": {},
   "outputs": [],
   "source": [
    "class Node:\n",
    "    def __init__(self,data):\n",
    "        self.data=data\n",
    "        self.next=None"
   ]
  },
  {
   "cell_type": "code",
   "execution_count": 5,
   "metadata": {},
   "outputs": [
    {
     "name": "stdout",
     "output_type": "stream",
     "text": [
      "<__main__.Node object at 0x000001ED35B985D0>\n"
     ]
    }
   ],
   "source": [
    "print(Node(5))"
   ]
  },
  {
   "cell_type": "code",
   "execution_count": 60,
   "metadata": {},
   "outputs": [],
   "source": [
    "class LinkedList:\n",
    "    def __init__(self):\n",
    "        self.head=None\n",
    "        self.n=0\n",
    "    \n",
    "    \n",
    "    def inserthead(self,data):\n",
    "        curr=self.head\n",
    "        self.head=Node(data)\n",
    "        self.head.next=curr\n",
    "        self.n=self.n+1\n",
    "        \n",
    "    def inserttail(self,data):\n",
    "        if(self.head==None):\n",
    "            node=Node(data)\n",
    "            self.head=node\n",
    "            self.n=self.n+1\n",
    "            \n",
    "        else:\n",
    "            \n",
    "            node=Node(data)\n",
    "            curr=self.head\n",
    "            \n",
    "            while(curr.next!=None):\n",
    "                curr=curr.next\n",
    "            \n",
    "            \n",
    "            curr.next=node\n",
    "            self.n=self.n+1\n",
    "    def insertafter(self,after,data):\n",
    "        curr=self.head\n",
    "        node=Node(data)\n",
    "        flag=0\n",
    "        while(curr.data!=after):\n",
    "            curr=curr.next\n",
    "            if curr==None:\n",
    "                break\n",
    "        if(curr!=None):\n",
    "            flag=1\n",
    "        \n",
    "        if(flag==0):\n",
    "            print(f\"data not found  {after}\")\n",
    "        else:\n",
    "            before=curr.next\n",
    "            node.next=before\n",
    "            curr.next=node\n",
    "            self.n=self.n+1\n",
    "        \n",
    "    def traverse(self):\n",
    "        curr=self.head\n",
    "        while(curr!=None):\n",
    "            \n",
    "          print(curr.data)\n",
    "          curr=curr.next\n",
    "        \n",
    "    def __str__(self):\n",
    "        \n",
    "        curr=self.head\n",
    "        result=''\n",
    "        while(curr!=None):\n",
    "            \n",
    "          result=result+f\"{curr.data}\"+'->'\n",
    "          curr=curr.next\n",
    "        return result[:-2]"
   ]
  },
  {
   "cell_type": "code",
   "execution_count": 61,
   "metadata": {},
   "outputs": [],
   "source": [
    "list=LinkedList()\n"
   ]
  },
  {
   "cell_type": "code",
   "execution_count": 62,
   "metadata": {},
   "outputs": [],
   "source": [
    "list.inserthead(1)\n",
    "list.inserthead(2)\n",
    "list.inserthead(3)\n",
    "list.inserthead(4)"
   ]
  },
  {
   "cell_type": "code",
   "execution_count": 63,
   "metadata": {},
   "outputs": [],
   "source": [
    "list.inserttail(10)"
   ]
  },
  {
   "cell_type": "code",
   "execution_count": 64,
   "metadata": {},
   "outputs": [
    {
     "name": "stdout",
     "output_type": "stream",
     "text": [
      "data not found \n"
     ]
    }
   ],
   "source": [
    "list.insertafter(7,6)"
   ]
  },
  {
   "cell_type": "code",
   "execution_count": 52,
   "metadata": {},
   "outputs": [
    {
     "name": "stdout",
     "output_type": "stream",
     "text": [
      "4\n",
      "5\n",
      "3\n",
      "2\n",
      "1\n",
      "10\n"
     ]
    }
   ],
   "source": [
    "list.traverse()"
   ]
  },
  {
   "cell_type": "code",
   "execution_count": 46,
   "metadata": {},
   "outputs": [
    {
     "name": "stdout",
     "output_type": "stream",
     "text": [
      "4->3->2->1->10\n"
     ]
    }
   ],
   "source": [
    "print(list)"
   ]
  },
  {
   "cell_type": "code",
   "execution_count": null,
   "metadata": {},
   "outputs": [],
   "source": []
  },
  {
   "cell_type": "code",
   "execution_count": null,
   "metadata": {},
   "outputs": [],
   "source": []
  }
 ],
 "metadata": {
  "kernelspec": {
   "display_name": "Python 3",
   "language": "python",
   "name": "python3"
  },
  "language_info": {
   "codemirror_mode": {
    "name": "ipython",
    "version": 3
   },
   "file_extension": ".py",
   "mimetype": "text/x-python",
   "name": "python",
   "nbconvert_exporter": "python",
   "pygments_lexer": "ipython3",
   "version": "3.11.2"
  }
 },
 "nbformat": 4,
 "nbformat_minor": 2
}
