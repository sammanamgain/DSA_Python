{
 "cells": [
  {
   "cell_type": "code",
   "execution_count": 2,
   "metadata": {},
   "outputs": [],
   "source": [
    "class Node:\n",
    "    def __init__(self,data):\n",
    "        self.data=data\n",
    "        self.next=None"
   ]
  },
  {
   "cell_type": "code",
   "execution_count": 3,
   "metadata": {},
   "outputs": [
    {
     "name": "stdout",
     "output_type": "stream",
     "text": [
      "<__main__.Node object at 0x7f7a6ddd32e0>\n"
     ]
    }
   ],
   "source": [
    "print(Node(5))"
   ]
  },
  {
   "cell_type": "code",
   "execution_count": 4,
   "metadata": {},
   "outputs": [],
   "source": [
    "class LinkedList:\n",
    "    def __init__(self):\n",
    "        self.head=None\n",
    "        self.n=0\n",
    "    \n",
    "    \n",
    "    def inserthead(self,data):\n",
    "        curr=self.head\n",
    "        self.head=Node(data)\n",
    "        self.head.next=curr\n",
    "        self.n=self.n+1\n",
    "        \n",
    "    def inserttail(self,data):\n",
    "        if(self.head==None):\n",
    "            node=Node(data)\n",
    "            self.head=node\n",
    "            self.n=self.n+1\n",
    "            \n",
    "        else:\n",
    "            \n",
    "            node=Node(data)\n",
    "            curr=self.head\n",
    "            \n",
    "            while(curr.next!=None):\n",
    "                curr=curr.next\n",
    "            \n",
    "            \n",
    "            curr.next=node\n",
    "            self.n=self.n+1\n",
    "    def insertafter(self,after,data):\n",
    "        curr=self.head\n",
    "        node=Node(data)\n",
    "        flag=0\n",
    "        while(curr.data!=after):\n",
    "            curr=curr.next\n",
    "            if curr==None:\n",
    "                break\n",
    "        if(curr!=None):\n",
    "            flag=1\n",
    "        \n",
    "        if(flag==0):\n",
    "            print(f\"data not found  {after}\")\n",
    "        else:\n",
    "            before=curr.next\n",
    "            node.next=before\n",
    "            curr.next=node\n",
    "            self.n=self.n+1\n",
    "    \n",
    "    def deleteall(self):\n",
    "        print(self.head)\n",
    "        self.head=None\n",
    "        self.n=0\n",
    "    \n",
    "    def deletehead(self):\n",
    "        if(self.head!=None):\n",
    "          curr=self.head\n",
    "          newhead=curr.next\n",
    "          if(newhead!=None): \n",
    "             self.head=newhead\n",
    "          else:\n",
    "              self.head=None\n",
    "        else:\n",
    "            print(\"Linked list is empty\")\n",
    "    \n",
    "    def deletetail(self):\n",
    "        \n",
    "        curr=self.head\n",
    "        if curr==None:\n",
    "            print(\"Linked list is empty\")\n",
    "        else:\n",
    "            \n",
    "            lastaddress=None\n",
    "            while(curr.next!=None):\n",
    "                curr=curr.next\n",
    "                lastaddress=curr\n",
    "            curr=self.head\n",
    "            while(curr.next!=lastaddress):\n",
    "                curr=curr.next\n",
    "            curr.next=None\n",
    "            self.n=self.n-1\n",
    "    #deletewith value\n",
    "    def deletespecific(self,value):\n",
    "        curr=self.head\n",
    "        if curr==None:\n",
    "            print(\"Linked list is empty\")\n",
    "        else:\n",
    "            flag=0\n",
    "            while(curr.data!=value):\n",
    "                curr=curr.next\n",
    "                if(curr==None):\n",
    "                    flag=1\n",
    "                    break\n",
    "            if(flag==1):\n",
    "                print(\"Item doesn't exists on list\")\n",
    "            address=curr\n",
    "            nextaddress=curr.next\n",
    "            curr=self.head\n",
    "            while(curr.next!=address):\n",
    "                curr=curr.next\n",
    "            \n",
    "            curr.next=nextaddress\n",
    "    #searching\n",
    "    #find with node with value\n",
    "    def search(self,value):\n",
    "        if(self.head==None):\n",
    "            return 'List is empty'\n",
    "        pos=0\n",
    "        \n",
    "        if(self.head.data==value):\n",
    "            return f\"found at position {pos}\"\n",
    "        curr=self.head\n",
    "        while(curr.next!=None):\n",
    "            curr=curr.next\n",
    "            pos=pos+1\n",
    "            if(curr.data==value):\n",
    "                return f'found at position {pos} '\n",
    "           \n",
    "        return 'Not found'\n",
    "    #search by index \n",
    "    def __getitem__(self,index):\n",
    "        curr=self.head\n",
    "        pos=0\n",
    "        while(curr!=None):\n",
    "          if(pos==index):\n",
    "              return curr.data\n",
    "          pos=pos+1\n",
    "          curr=curr.next\n",
    "        return 'Not found at specified index'\n",
    "            \n",
    "    def traverse(self):\n",
    "        curr=self.head\n",
    "        while(curr!=None):\n",
    "            \n",
    "          print(curr.data)\n",
    "          curr=curr.next\n",
    "    #special method to print the object instead of printing the address\n",
    "    def __str__(self):\n",
    "        \n",
    "        curr=self.head\n",
    "        result=''\n",
    "        while(curr!=None):\n",
    "            \n",
    "          result=result+f\"{curr.data}\"+'->'\n",
    "          curr=curr.next\n",
    "        return result[:-2]"
   ]
  },
  {
   "cell_type": "code",
   "execution_count": 5,
   "metadata": {},
   "outputs": [],
   "source": [
    "list=LinkedList()\n"
   ]
  },
  {
   "cell_type": "code",
   "execution_count": 6,
   "metadata": {},
   "outputs": [],
   "source": [
    "list.inserthead(1)"
   ]
  },
  {
   "cell_type": "code",
   "execution_count": 18,
   "metadata": {},
   "outputs": [],
   "source": [
    "list.inserthead(1)\n",
    "list.inserthead(2)\n",
    "list.inserthead(3)\n",
    "list.inserthead(4)"
   ]
  },
  {
   "cell_type": "code",
   "execution_count": 8,
   "metadata": {},
   "outputs": [],
   "source": [
    "list.inserttail(10)"
   ]
  },
  {
   "cell_type": "code",
   "execution_count": 9,
   "metadata": {},
   "outputs": [
    {
     "name": "stdout",
     "output_type": "stream",
     "text": [
      "data not found  7\n"
     ]
    }
   ],
   "source": [
    "list.insertafter(7,6)"
   ]
  },
  {
   "cell_type": "code",
   "execution_count": 10,
   "metadata": {},
   "outputs": [
    {
     "name": "stdout",
     "output_type": "stream",
     "text": [
      "<__main__.Node object at 0x7f7a6ddd39a0>\n"
     ]
    }
   ],
   "source": [
    "list.deleteall()"
   ]
  },
  {
   "cell_type": "code",
   "execution_count": 11,
   "metadata": {},
   "outputs": [
    {
     "name": "stdout",
     "output_type": "stream",
     "text": [
      "Linked list is empty\n"
     ]
    }
   ],
   "source": [
    "list.deletehead()"
   ]
  },
  {
   "cell_type": "code",
   "execution_count": 12,
   "metadata": {},
   "outputs": [
    {
     "name": "stdout",
     "output_type": "stream",
     "text": [
      "Linked list is empty\n"
     ]
    }
   ],
   "source": [
    "list.deletetail()"
   ]
  },
  {
   "cell_type": "code",
   "execution_count": 13,
   "metadata": {},
   "outputs": [
    {
     "name": "stdout",
     "output_type": "stream",
     "text": [
      "Linked list is empty\n"
     ]
    }
   ],
   "source": [
    "list.deletespecific(1)"
   ]
  },
  {
   "cell_type": "code",
   "execution_count": 14,
   "metadata": {},
   "outputs": [
    {
     "data": {
      "text/plain": [
       "'List is empty'"
      ]
     },
     "execution_count": 14,
     "metadata": {},
     "output_type": "execute_result"
    }
   ],
   "source": [
    "list.search(5)"
   ]
  },
  {
   "cell_type": "code",
   "execution_count": 19,
   "metadata": {},
   "outputs": [
    {
     "name": "stdout",
     "output_type": "stream",
     "text": [
      "4\n",
      "3\n",
      "2\n",
      "1\n"
     ]
    }
   ],
   "source": [
    "list.traverse()"
   ]
  },
  {
   "cell_type": "code",
   "execution_count": 20,
   "metadata": {},
   "outputs": [
    {
     "name": "stdout",
     "output_type": "stream",
     "text": [
      "4->3->2->1\n"
     ]
    }
   ],
   "source": [
    "print(list)"
   ]
  },
  {
   "cell_type": "code",
   "execution_count": 17,
   "metadata": {},
   "outputs": [
    {
     "data": {
      "text/plain": [
       "'Not found at specified index'"
      ]
     },
     "execution_count": 17,
     "metadata": {},
     "output_type": "execute_result"
    }
   ],
   "source": [
    "list[5]"
   ]
  },
  {
   "cell_type": "code",
   "execution_count": null,
   "metadata": {},
   "outputs": [],
   "source": []
  },
  {
   "cell_type": "code",
   "execution_count": null,
   "metadata": {},
   "outputs": [],
   "source": []
  }
 ],
 "metadata": {
  "kernelspec": {
   "display_name": "Python 3",
   "language": "python",
   "name": "python3"
  },
  "language_info": {
   "codemirror_mode": {
    "name": "ipython",
    "version": 3
   },
   "file_extension": ".py",
   "mimetype": "text/x-python",
   "name": "python",
   "nbconvert_exporter": "python",
   "pygments_lexer": "ipython3",
   "version": "3.10.12"
  }
 },
 "nbformat": 4,
 "nbformat_minor": 2
}
